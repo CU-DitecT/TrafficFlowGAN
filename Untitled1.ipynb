{
 "cells": [
  {
   "cell_type": "code",
   "execution_count": 22,
   "id": "bda16c47",
   "metadata": {},
   "outputs": [],
   "source": [
    "import scipy.io\n",
    "import numpy as np\n",
    "import pickle\n",
    "import matplotlib.pyplot as plt\n",
    "import seaborn as sns"
   ]
  },
  {
   "cell_type": "code",
   "execution_count": 14,
   "id": "475f6988",
   "metadata": {},
   "outputs": [],
   "source": [
    "N_l = 18\n",
    "noise = 0.2\n",
    "N_noise = 50"
   ]
  },
  {
   "cell_type": "code",
   "execution_count": 33,
   "id": "fe9fbdf1",
   "metadata": {},
   "outputs": [
    {
     "name": "stdout",
     "output_type": "stream",
     "text": [
      "1770 21\n",
      "N_u: 29736\n"
     ]
    }
   ],
   "source": [
    "with open('data/Ngsim/US101_Lane1to5_t1.5s30.pickle', 'rb') as f:\n",
    "            data_pickle = pickle.load(f)\n",
    "\n",
    "Loop_dict = {3: [0, 7, 20],\n",
    "             4: [0, 5, 11, 20],\n",
    "             5: [0, 4, 8, 13, 20],\n",
    "             6: [0, 3, 7, 11, 14, 20],\n",
    "             7: [0, 3, 6, 9, 12, 15, 20],\n",
    "             8: [0, 2, 5, 8, 11, 13, 16, 20],\n",
    "             9: [0, 2, 4, 7, 9, 12, 14, 17, 20],\n",
    "             10: [0, 2, 4, 6, 8, 11, 13, 15, 17, 20],\n",
    "             11: [0, 2, 4, 6, 8, 10, 12, 14, 16, 18, 20],\n",
    "             12: [0, 1, 3, 5, 7, 9, 11, 12, 14, 16, 18, 20],\n",
    "             13: [0, 1, 3, 5, 6, 8, 10, 11, 13, 15, 16, 18, 20],\n",
    "             14: [0, 1, 3, 4, 6, 7, 9, 11, 12, 14, 15, 17, 18, 20],\n",
    "             15: [0, 1, 2, 4, 5, 7, 8, 10, 11, 13, 14, 16, 17, 19, 20],\n",
    "             16: [0, 1, 2, 4, 5, 6, 8, 9, 11, 12, 13, 15, 16, 17, 19, 20],\n",
    "             18: [0, 1, 2, 3, 4, 6, 7, 8, 9, 11, 12, 13, 14, 15, 17, 18, 19, 20]}\n",
    "\n",
    "xx = np.array(data_pickle['s']).flatten()[:, None]\n",
    "tt = np.array(data_pickle['t']).flatten()[:, None]\n",
    "rhoMat = np.array([np.array(ele) for ele in data_pickle['rhoMat']]) *50\n",
    "uMat = np.array([np.array(ele) for ele in data_pickle['vMat']])\n",
    "# rhoMat_smooth = scipy.ndimage.uniform_filter(rhoMat, size=5, mode='nearest')\n",
    "# uMat_smooth = scipy.ndimage.uniform_filter(uMat, size=5, mode='nearest')\n",
    "\n",
    "X, T = np.meshgrid(xx, tt)\n",
    "print(len(X), len(X[0]))  # 21 by 1770\n",
    "\n",
    "N_u = int(len(X) * len(X[0]) * 0.8)\n",
    "print('N_u:', N_u)\n",
    "\n",
    "x = X.flatten()[:, None]  # 21*1770 by 1\n",
    "t = T.flatten()[:, None]  # 21*1770 by 1\n",
    "# Exact_rho = rhoMat_smooth.T  # 1770 by 21\n",
    "# Exact_u = uMat_smooth.T\n",
    "Exact_rho = rhoMat.T  # 1770 by 21noise\n",
    "Exact_u = uMat.T\n",
    "N_loop = Loop_dict[N_l]\n",
    "\n",
    "X_star = np.hstack((x, t)) # hstack is column wise stack, 241*960 (after flatten) by 2\n",
    "\n",
    "\n",
    "idx = np.random.choice(X_star.shape[0], N_u, replace=False)  # N_u = 22000 out of 37170 for Auxiliary points\n",
    "idx2 = []\n",
    "\n",
    "for i in range(1770):  # for observations on the loops\n",
    "    base = i * 21\n",
    "    index = [base + ele for ele in N_loop]\n",
    "    idx2 += index\n",
    "\n",
    "\n",
    "rho_star = Exact_rho.flatten()[:,None] # 241*960 by 1\n",
    "u_star = Exact_u.flatten()[:,None] # 241*960 by 1\n",
    "\n",
    "\n",
    "\n",
    "# Doman bounds\n",
    "lb = X_star.min(0) # [0, 0]\n",
    "ub = X_star.max(0) # [1, 3] \n",
    "\n",
    "\n",
    "######################################################################\n",
    "######################## Noiseles Data ###############################\n",
    "######################################################################\n",
    "X_rho_train = X_star[idx2, :]  # [x, 0.0] and 100 points from left bound selected\n",
    "X_rho_repeat = np.repeat(X_rho_train, N_noise, axis=0)\n",
    "\n",
    "X_star3= X_star[idx, :]\n",
    "\n",
    "rho_train = rho_star[idx2, :]\n",
    "\n",
    "u_train = u_star[idx2, :]\n",
    "\n",
    "\n",
    "rho_train_repeat = rho_train + noise*np.random.randn(rho_train.shape[0], rho_train.shape[1])\n",
    "for i in range(N_noise-1):\n",
    "    rho_train_repeat = np.hstack((rho_train_repeat, rho_train + noise*np.random.randn(rho_train.shape[0], rho_train.shape[1])))\n",
    "# rho_train_repeat = rho_train_repeat.reshape(-1,1)\n",
    "\n",
    "\n",
    "u_train_repeat = u_train + noise*np.random.randn(u_train.shape[0], u_train.shape[1])\n",
    "for i in range(N_noise-1):\n",
    "    u_train_repeat = np.hstack((u_train_repeat, u_train + noise*np.random.randn(u_train.shape[0], u_train.shape[1])))\n",
    "# u_train_repeat = u_train_repeat.reshape(-1,1)\n",
    "\n",
    "# rho_u_repeat = np.concatenate((rho_train_repeat,u_train_repeat),axis=1)\n",
    "\n",
    "# X_rho_repeat = X_rho_repeat.astype(np.float32)\n",
    "# rho_u_repeat = rho_u_repeat.astype(np.float32)\n",
    "# X_star3 = X_star3.astype(np.float32)\n",
    "# X_rho_u  = np.concatenate((rho_u_repeat, X_rho_repeat),axis=1)\n",
    "# self.mean = np.mean(X_rho_u, axis=0)\n",
    "# self.std = np.std(X_rho_u, axis=0)\n"
   ]
  },
  {
   "cell_type": "code",
   "execution_count": 16,
   "id": "6059b87c",
   "metadata": {},
   "outputs": [
    {
     "data": {
      "text/plain": [
       "(31860, 50)"
      ]
     },
     "execution_count": 16,
     "metadata": {},
     "output_type": "execute_result"
    }
   ],
   "source": [
    "rho_train_repeat.shape"
   ]
  },
  {
   "cell_type": "code",
   "execution_count": 17,
   "id": "80b6727a",
   "metadata": {},
   "outputs": [
    {
     "data": {
      "text/plain": [
       "(array([ 4.,  1.,  8.,  6.,  9., 11.,  5.,  4.,  1.,  1.]),\n",
       " array([-0.3741903 , -0.26731313, -0.16043596, -0.05355879,  0.05331838,\n",
       "         0.16019556,  0.26707273,  0.3739499 ,  0.48082707,  0.58770424,\n",
       "         0.69458141]),\n",
       " <BarContainer object of 10 artists>)"
      ]
     },
     "execution_count": 17,
     "metadata": {},
     "output_type": "execute_result"
    },
    {
     "data": {
      "image/png": "[encoded data removed]",
      "text/plain": [
       "<Figure size 432x288 with 1 Axes>"
      ]
     },
     "metadata": {
      "needs_background": "light"
     },
     "output_type": "display_data"
    }
   ],
   "source": [
    "plt.hist(rho_train_repeat[0,:])"
   ]
  },
  {
   "cell_type": "code",
   "execution_count": 18,
   "id": "aea9b4ce",
   "metadata": {},
   "outputs": [
    {
     "data": {
      "text/plain": [
       "(array([ 3.,  3.,  4.,  7., 10.,  9.,  2.,  6.,  3.,  3.]),\n",
       " array([10.07732596, 10.15835236, 10.23937876, 10.32040516, 10.40143156,\n",
       "        10.48245796, 10.56348436, 10.64451076, 10.72553716, 10.80656356,\n",
       "        10.88758997]),\n",
       " <BarContainer object of 10 artists>)"
      ]
     },
     "execution_count": 18,
     "metadata": {},
     "output_type": "execute_result"
    },
    {
     "data": {
      "image/png": "[encoded data removed]",
      "text/plain": [
       "<Figure size 432x288 with 1 Axes>"
      ]
     },
     "metadata": {
      "needs_background": "light"
     },
     "output_type": "display_data"
    }
   ],
   "source": [
    "plt.hist(u_train_repeat[0,:])"
   ]
  },
  {
   "cell_type": "code",
   "execution_count": 34,
   "id": "8fbfd7aa",
   "metadata": {},
   "outputs": [
    {
     "data": {
      "text/plain": [
       "(array([  402.,  4209., 11929., 11753.,  5270.,  2231.,  1020.,   297.,\n",
       "           44.,    15.]),\n",
       " array([ 1.11111111,  3.91111111,  6.71111111,  9.51111111, 12.31111111,\n",
       "        15.11111111, 17.91111111, 20.71111111, 23.51111111, 26.31111111,\n",
       "        29.11111111]),\n",
       " <BarContainer object of 10 artists>)"
      ]
     },
     "execution_count": 34,
     "metadata": {},
     "output_type": "execute_result"
    },
    {
     "data": {
      "image/png": "[encoded data removed]",
      "text/plain": [
       "<Figure size 432x288 with 1 Axes>"
      ]
     },
     "metadata": {
      "needs_background": "light"
     },
     "output_type": "display_data"
    }
   ],
   "source": [
    "plt.hist(Exact_rho.flatten())"
   ]
  },
  {
   "cell_type": "code",
   "execution_count": 32,
   "id": "926864d4",
   "metadata": {},
   "outputs": [
    {
     "data": {
      "text/plain": [
       "(array([ 641., 2539., 3700., 5631., 8394., 7636., 4816., 2185., 1312.,\n",
       "         316.]),\n",
       " array([ 0.29490063,  2.40538279,  4.51586495,  6.62634711,  8.73682928,\n",
       "        10.84731144, 12.9577936 , 15.06827576, 17.17875793, 19.28924009,\n",
       "        21.39972225]),\n",
       " <BarContainer object of 10 artists>)"
      ]
     },
     "execution_count": 32,
     "metadata": {},
     "output_type": "execute_result"
    },
    {
     "data": {
      "image/png": "[encoded data removed]",
      "text/plain": [
       "<Figure size 432x288 with 1 Axes>"
      ]
     },
     "metadata": {
      "needs_background": "light"
     },
     "output_type": "display_data"
    }
   ],
   "source": [
    "plt.hist(Exact_u.flatten())"
   ]
  },
  {
   "cell_type": "code",
   "execution_count": 19,
   "id": "ea0ba0d6",
   "metadata": {},
   "outputs": [
    {
     "data": {
      "text/plain": [
       "(1770, 21)"
      ]
     },
     "execution_count": 19,
     "metadata": {},
     "output_type": "execute_result"
    }
   ],
   "source": [
    "Exact_rho.shape"
   ]
  },
  {
   "cell_type": "code",
   "execution_count": 35,
   "id": "76aace01",
   "metadata": {},
   "outputs": [],
   "source": [
    "# evaluate the conservation law\n",
    "Exact_rho_t = (Exact_rho[1:,:-1] - Exact_rho[:-1,:-1]) / (data_pickle['t'][1] - data_pickle['t'][0])\n",
    "\n",
    "Exact_q = Exact_rho*Exact_u\n",
    "Exact_q_x = (Exact_q[:-1, 1:] - Exact_q[:-1,:-1]) / (data_pickle['s'][1] - data_pickle['s'][0])\n",
    "residual = Exact_rho_t + Exact_q_x"
   ]
  },
  {
   "cell_type": "code",
   "execution_count": 36,
   "id": "3eeb099d",
   "metadata": {},
   "outputs": [
    {
     "data": {
      "text/plain": [
       "<AxesSubplot:>"
      ]
     },
     "execution_count": 36,
     "metadata": {},
     "output_type": "execute_result"
    },
    {
     "data": {
      "image/png": "[encoded data removed]",
      "text/plain": [
       "<Figure size 432x288 with 2 Axes>"
      ]
     },
     "metadata": {
      "needs_background": "light"
     },
     "output_type": "display_data"
    }
   ],
   "source": [
    "sns.heatmap(residual)"
   ]
  },
  {
   "cell_type": "code",
   "execution_count": 37,
   "id": "2c031242",
   "metadata": {},
   "outputs": [
    {
     "data": {
      "text/plain": [
       "(array([2.0000e+00, 6.3000e+01, 5.6700e+02, 3.3560e+03, 1.0147e+04,\n",
       "        1.2468e+04, 6.7600e+03, 1.7360e+03, 2.5500e+02, 2.6000e+01]),\n",
       " array([-7.91948596, -6.42010823, -4.9207305 , -3.42135276, -1.92197503,\n",
       "        -0.4225973 ,  1.07678043,  2.57615816,  4.0755359 ,  5.57491363,\n",
       "         7.07429136]),\n",
       " <BarContainer object of 10 artists>)"
      ]
     },
     "execution_count": 37,
     "metadata": {},
     "output_type": "execute_result"
    },
    {
     "data": {
      "image/png": "[encoded data removed]",
      "text/plain": [
       "<Figure size 432x288 with 1 Axes>"
      ]
     },
     "metadata": {
      "needs_background": "light"
     },
     "output_type": "display_data"
    }
   ],
   "source": [
    "plt.hist(residual.flatten())"
   ]
  },
  {
   "cell_type": "code",
   "execution_count": null,
   "id": "3dec894c",
   "metadata": {},
   "outputs": [],
   "source": []
  }
 ],
 "metadata": {
  "kernelspec": {
   "display_name": "Python 3 (ipykernel)",
   "language": "python",
   "name": "python3"
  },
  "language_info": {
   "codemirror_mode": {
    "name": "ipython",
    "version": 3
   },
   "file_extension": ".py",
   "mimetype": "text/x-python",
   "name": "python",
   "nbconvert_exporter": "python",
   "pygments_lexer": "ipython3",
   "version": "3.7.12"
  }
 },
 "nbformat": 4,
 "nbformat_minor": 5
}
