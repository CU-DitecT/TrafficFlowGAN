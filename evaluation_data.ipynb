{
 "cells": [
  {
   "cell_type": "code",
   "execution_count": 11,
   "id": "9bf1ab7d",
   "metadata": {},
   "outputs": [],
   "source": [
    "import scipy.io\n",
    "import numpy as np\n",
    "import matplotlib.pyplot as plt"
   ]
  },
  {
   "cell_type": "code",
   "execution_count": 2,
   "id": "110bf583",
   "metadata": {},
   "outputs": [],
   "source": [
    "data = scipy.io.loadmat('data/lwr/rho_bellshape_10grid_DS10_gn_eps005_solver2_ring.mat')\n",
    "\n",
    "t = data['t'].flatten()[:,None]# 960 by 1\n",
    "x = data['x'].flatten()[:,None]# 240 by 1\n",
    "Exact_rho = np.real(data['rho']).T"
   ]
  },
  {
   "cell_type": "code",
   "execution_count": 3,
   "id": "a84824b9",
   "metadata": {},
   "outputs": [],
   "source": [
    "def Ueq(rho):\n",
    "    rho_max=1\n",
    "    u_max = 1\n",
    "    u = u_max * (1 - rho/rho_max)\n",
    "    return rho * u"
   ]
  },
  {
   "cell_type": "code",
   "execution_count": 4,
   "id": "5caac011",
   "metadata": {},
   "outputs": [],
   "source": [
    "Exact_q = Ueq(Exact_rho)"
   ]
  },
  {
   "cell_type": "code",
   "execution_count": 6,
   "id": "c85a04f4",
   "metadata": {},
   "outputs": [
    {
     "name": "stdout",
     "output_type": "stream",
     "text": [
      "(959, 239)\n"
     ]
    }
   ],
   "source": [
    "rho_t = (Exact_rho[1:, :-1] - Exact_rho[:1, :-1]) / (3/960)\n",
    "rho_t = rho_t[:,:-1]\n",
    "print(rho_t.shape)"
   ]
  },
  {
   "cell_type": "code",
   "execution_count": 8,
   "id": "9602b741",
   "metadata": {},
   "outputs": [
    {
     "name": "stdout",
     "output_type": "stream",
     "text": [
      "(959, 239)\n"
     ]
    }
   ],
   "source": [
    "rho_x = (Exact_rho[:, 1:-1] - Exact_rho[:, :-2]) / (1/240)\n",
    "rho_x = rho_x[:-1,:]\n",
    "print(rho_x.shape)"
   ]
  },
  {
   "cell_type": "code",
   "execution_count": 10,
   "id": "0a1d7733",
   "metadata": {},
   "outputs": [
    {
     "name": "stdout",
     "output_type": "stream",
     "text": [
      "(959, 239)\n"
     ]
    }
   ],
   "source": [
    "q_x = (Exact_q[:, 1:-1] - Exact_q[:, :-2]) / (1/240)\n",
    "q_x = q_x[:-1,:]\n",
    "print(rho_x.shape)"
   ]
  },
  {
   "cell_type": "code",
   "execution_count": 13,
   "id": "d07ed50f",
   "metadata": {},
   "outputs": [
    {
     "data": {
      "text/plain": [
       "(array([ 4760.,  9616.,  7911.,  6939.,  8244.,  9740., 14440., 64676.,\n",
       "        76219., 26656.]),\n",
       " array([-287.79212136, -247.3429633 , -206.89380524, -166.44464717,\n",
       "        -125.99548911,  -85.54633105,  -45.09717299,   -4.64801492,\n",
       "          35.80114314,   76.2503012 ,  116.69945926]),\n",
       " <a list of 10 Patch objects>)"
      ]
     },
     "execution_count": 13,
     "metadata": {},
     "output_type": "execute_result"
    },
    {
     "data": {
      "image/png": "[encoded data removed]",
      "text/plain": [
       "<Figure size 432x288 with 1 Axes>"
      ]
     },
     "metadata": {
      "needs_background": "light"
     },
     "output_type": "display_data"
    }
   ],
   "source": [
    "plt.hist((rho_t + q_x).flatten())"
   ]
  }
 ],
 "metadata": {
  "kernelspec": {
   "display_name": "Python 3",
   "language": "python",
   "name": "python3"
  },
  "language_info": {
   "codemirror_mode": {
    "name": "ipython",
    "version": 3
   },
   "file_extension": ".py",
   "mimetype": "text/x-python",
   "name": "python",
   "nbconvert_exporter": "python",
   "pygments_lexer": "ipython3",
   "version": "3.6.6"
  }
 },
 "nbformat": 4,
 "nbformat_minor": 5
}
