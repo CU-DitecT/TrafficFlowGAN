{
 "cells": [
  {
   "cell_type": "code",
   "execution_count": 1,
   "id": "threatened-whale",
   "metadata": {},
   "outputs": [],
   "source": [
    "import glob\n",
    "import json\n",
    "import numpy as np\n",
    "import matplotlib.pyplot as plt"
   ]
  },
  {
   "cell_type": "code",
   "execution_count": 3,
   "id": "generic-benjamin",
   "metadata": {},
   "outputs": [
    {
     "name": "stdout",
     "output_type": "stream",
     "text": [
      "10\n"
     ]
    }
   ],
   "source": [
    "files_path = \"../experiment_hyper_tune/arz_learning_z/raissi_physics_flow/\"\n",
    "files = glob.glob(files_path+\"*/\")\n",
    "print(len(files))"
   ]
  },
  {
   "cell_type": "code",
   "execution_count": 4,
   "id": "9d7e2263",
   "metadata": {},
   "outputs": [
    {
     "name": "stdout",
     "output_type": "stream",
     "text": [
      "../experiment_hyper_tune/arz_learning_z/flow/alpha=1-alpha_u_rho=0.7-loop_number=10/\n"
     ]
    }
   ],
   "source": [
    "print(files[0])"
   ]
  },
  {
   "cell_type": "code",
   "execution_count": 12,
   "id": "basic-smooth",
   "metadata": {},
   "outputs": [
    {
     "name": "stdout",
     "output_type": "stream",
     "text": [
      "alpha=1-alpha_u_rho=0.7-loop_number=10\n",
      "alpha=1-alpha_u_rho=0.3-loop_number=10\n",
      "alpha=1-alpha_u_rho=0.7-loop_number=14\n",
      "alpha=1-alpha_u_rho=0.3-loop_number=14\n",
      "alpha=1-alpha_u_rho=0.5-loop_number=14\n",
      "alpha=1-alpha_u_rho=0.1-loop_number=14\n",
      "alpha=1-alpha_u_rho=0.1-loop_number=10\n",
      "alpha=1-alpha_u_rho=0.9-loop_number=10\n",
      "alpha=1-alpha_u_rho=0.5-loop_number=10\n",
      "alpha=1-alpha_u_rho=0.9-loop_number=14\n"
     ]
    }
   ],
   "source": [
    "results = {}\n",
    "for i in range(len(files)):\n",
    "    file = files[i].split(\"/\")[-2]\n",
    "    alpha =  file.split('=')[1].split('-')[0]\n",
    "    alpha_u_rho = file.split('=')[2].split('-')[0]\n",
    "    loop_number = file.split('=')[3]\n",
    "    with open(files[i]+'/test_result/'+file+'/metrics_test.json') as json_file:\n",
    "        metrics = json.load(json_file)\n",
    "        if loop_number not in results.keys():\n",
    "            results[loop_number] = {}\n",
    "        if alpha not in results[loop_number].keys():\n",
    "            results[loop_number][alpha] = {}\n",
    "        results[loop_number][alpha].update({alpha_u_rho:metrics})"
   ]
  },
  {
   "cell_type": "code",
   "execution_count": 14,
   "id": "matched-hawaiian",
   "metadata": {
    "scrolled": true
   },
   "outputs": [
    {
     "data": {
      "text/plain": [
       "Text(0, 0.5, 'optimal_rmse')"
      ]
     },
     "execution_count": 14,
     "metadata": {},
     "output_type": "execute_result"
    },
    {
     "data": {
      "image/png": "[encoded data removed]",
      "text/plain": [
       "<Figure size 432x288 with 1 Axes>"
      ]
     },
     "metadata": {
      "needs_background": "light"
     },
     "output_type": "display_data"
    },
    {
     "data": {
      "image/png": "[encoded data removed]",
      "text/plain": [
       "<Figure size 432x288 with 1 Axes>"
      ]
     },
     "metadata": {
      "needs_background": "light"
     },
     "output_type": "display_data"
    }
   ],
   "source": [
    "metric = 'rmse'\n",
    "alpha_test = '1.0'\n",
    "optimal_n_list = []\n",
    "optimal_alpha_list = []\n",
    "optimal_metric_list = [[],[]]\n",
    "for n in results.keys():\n",
    "    alpha_list = []\n",
    "    mse_list = []\n",
    "    std_list = []\n",
    "    optimal_n_list.append(float(n))\n",
    "    for a in results[n].keys():\n",
    "        for a2 in results[n][a].keys():\n",
    "            alpha_list.append(float(a))\n",
    "            mse_mean = np.array(results[n][a][a2][metric]).mean()\n",
    "            mse_list.append(mse_mean)\n",
    "            std_list.append(np.array(results[n][a][a2][metric]).std())\n",
    "\n",
    "#     mse_mean = np.array(results[n][alpha_test][metric]).mean()\n",
    "#     optimal_metric_list[0].append(mse_mean)\n",
    "#     optimal_metric_list[1].append(np.array(results[n][alpha_test][metric]).std())\n",
    "\n",
    "#     plt.figure()\n",
    "#     plt.scatter(alpha_list,mse_list)\n",
    "#     plt.xlabel('alpha')\n",
    "#     plt.ylabel(metric)\n",
    "#     plt.title('number of train {}'.format(n))\n",
    "\n",
    "    op_metric = np.array(mse_list).min()\n",
    "    optimal_alpha_list.append(alpha_list[mse_list.index(op_metric)])\n",
    "    optimal_metric_list[0].append(op_metric)\n",
    "    optimal_metric_list[1].append(std_list[mse_list.index(op_metric)])\n",
    "\n",
    "plt.figure()\n",
    "plt.scatter(optimal_n_list,optimal_alpha_list,color = 'orange')\n",
    "plt.xlabel('Loop Number')\n",
    "plt.ylabel('OPTIMAL_ALPHA')\n",
    "\n",
    "\n",
    "plt.figure()\n",
    "optimal_n_list, optimal_metric_list[0], optimal_metric_list[1] =zip(*sorted(zip(optimal_n_list, optimal_metric_list[0], optimal_metric_list[1])))\n",
    "plt.scatter(optimal_n_list,optimal_metric_list[0],color = 'orange')\n",
    "plt.xlabel('Loop Number')\n",
    "plt.ylabel('optimal_{}'.format(metric))"
   ]
  },
  {
   "cell_type": "code",
   "execution_count": 119,
   "id": "permanent-boards",
   "metadata": {},
   "outputs": [
    {
     "data": {
      "text/plain": [
       "[(0.6462954163551331,\n",
       "  0.5640731155872345,\n",
       "  0.5424306333065033,\n",
       "  0.5602801144123077,\n",
       "  0.5490609109401703,\n",
       "  0.5417153298854828,\n",
       "  0.5449501216411591),\n",
       " (0.0007907491131527679,\n",
       "  0.000567712530743497,\n",
       "  0.0004916488309191775,\n",
       "  0.0010398074097819846,\n",
       "  0.0005490949728232042,\n",
       "  0.0008626343902255962,\n",
       "  0.0004269798350087724)]"
      ]
     },
     "execution_count": 119,
     "metadata": {},
     "output_type": "execute_result"
    }
   ],
   "source": [
    "optimal_metric_list"
   ]
  },
  {
   "cell_type": "code",
   "execution_count": 120,
   "id": "basic-highland",
   "metadata": {},
   "outputs": [],
   "source": [
    "import pickle\n",
    "with open('./{}/bsc_gan_alpha=1.0.pickle'.format(metric),'wb') as f:\n",
    "    pickle.dump(optimal_metric_list,f)"
   ]
  },
  {
   "cell_type": "code",
   "execution_count": 136,
   "id": "demographic-display",
   "metadata": {},
   "outputs": [],
   "source": [
    "b = \"a\"\n",
    "a = f\"{b}\""
   ]
  },
  {
   "cell_type": "code",
   "execution_count": 137,
   "id": "boolean-bookmark",
   "metadata": {},
   "outputs": [
    {
     "data": {
      "text/plain": [
       "'a'"
      ]
     },
     "execution_count": 137,
     "metadata": {},
     "output_type": "execute_result"
    }
   ],
   "source": [
    "a"
   ]
  }
 ],
 "metadata": {
  "kernelspec": {
   "display_name": "Python 3 (ipykernel)",
   "language": "python",
   "name": "python3"
  },
  "language_info": {
   "codemirror_mode": {
    "name": "ipython",
    "version": 3
   },
   "file_extension": ".py",
   "mimetype": "text/x-python",
   "name": "python",
   "nbconvert_exporter": "python",
   "pygments_lexer": "ipython3",
   "version": "3.7.12"
  }
 },
 "nbformat": 4,
 "nbformat_minor": 5
}